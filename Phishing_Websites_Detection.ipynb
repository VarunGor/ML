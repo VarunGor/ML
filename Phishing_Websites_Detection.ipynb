{
  "nbformat": 4,
  "nbformat_minor": 0,
  "metadata": {
    "colab": {
      "name": "Phishing Websites Detection.ipynb",
      "provenance": [],
      "collapsed_sections": []
    },
    "kernelspec": {
      "name": "python3",
      "display_name": "Python 3"
    }
  },
  "cells": [
    {
      "cell_type": "markdown",
      "metadata": {
        "id": "LIMzYopTMj3c",
        "colab_type": "text"
      },
      "source": [
        "# Phishing Websites Dataset \n",
        "\n",
        "---\n",
        "\n",
        "## Varun GOR"
      ]
    },
    {
      "cell_type": "markdown",
      "metadata": {
        "id": "2anHcXn3Mo-W",
        "colab_type": "text"
      },
      "source": [
        "<h2> Detect the websites which are Malicious. (KNN- K Nearest Neighbour)</h2>\n",
        "\n",
        "**Data Fields**\n",
        "\n",
        "1. having_IP_Address  { -1,1 }\n",
        "2. URL_Length   { 1,0,-1 }\n",
        "3. Shortining_Service { 1,-1 }\n",
        "4. having_At_Symbol   { 1,-1 }\n",
        "5. double_slash_redirecting { -1,1 }\n",
        "6. Prefix_Suffix  { -1,1 }\n",
        "7. having_Sub_Domain  { -1,0,1 }\n",
        "8. SSLfinal_State  { -1,1,0 }\n",
        "9. Domain_registeration_length { -1,1 }\n",
        "10. Favicon { 1,-1 }\n",
        "11. port { 1,-1 }\n",
        "12. HTTPS_token { -1,1 }\n",
        "13. Request_URL  { 1,-1 }\n",
        "14. URL_of_Anchor { -1,0,1 }\n",
        "15. Links_in_tags { 1,-1,0 }\n",
        "16. SFH  { -1,1,0 }\n",
        "17. Submitting_to_email { -1,1 }\n",
        "18. Abnormal_URL { -1,1 }\n",
        "19. Redirect  { 0,1 }\n",
        "20. on_mouseover  { 1,-1 }\n",
        "21. RightClick  { 1,-1 }\n",
        "22. popUpWidnow  { 1,-1 }\n",
        "23. Iframe { 1,-1 }\n",
        "24. age_of_domain  { -1,1 }\n",
        "25. DNSRecord   { -1,1 }\n",
        "26. web_traffic  { -1,0,1 }\n",
        "27. Page_Rank { -1,1 }\n",
        "28. Google_Index { 1,-1 }\n",
        "29. Links_pointing_to_page { 1,0,-1 }\n",
        "30. Statistical_report { -1,1 }\n",
        "31. Result  { -1,1 }\n",
        "\n",
        "\n",
        "\n",
        "**The  data coding is as follows:**\n",
        "\n",
        "\"1\"  = Legitimate Website\n",
        "\n",
        "\"0\"  = Suspisious\n",
        "\n",
        "\"-1\" = Malicious Website"
      ]
    },
    {
      "cell_type": "markdown",
      "metadata": {
        "id": "ih6UDuLRP9XT",
        "colab_type": "text"
      },
      "source": [
        "## Loading the Data"
      ]
    },
    {
      "cell_type": "code",
      "metadata": {
        "id": "jYW-AbLeMoF4",
        "colab_type": "code",
        "colab": {}
      },
      "source": [
        "import numpy as np\n",
        "import pandas as pd\n",
        "from scipy.io.arff import loadarff"
      ],
      "execution_count": 0,
      "outputs": []
    },
    {
      "cell_type": "code",
      "metadata": {
        "id": "yu1nwDBTQJtx",
        "colab_type": "code",
        "colab": {
          "base_uri": "https://localhost:8080/",
          "height": 316
        },
        "outputId": "189fe19b-b599-4c99-80dc-6d40574440b8"
      },
      "source": [
        "url = \"https://raw.githubusercontent.com/VarunGor/Dataset/master/Phishing_Data.arff\"\n",
        "\n",
        "phishing_data_raw = loadarff(url)"
      ],
      "execution_count": 4,
      "outputs": [
        {
          "output_type": "error",
          "ename": "FileNotFoundError",
          "evalue": "ignored",
          "traceback": [
            "\u001b[0;31m---------------------------------------------------------------------------\u001b[0m",
            "\u001b[0;31mFileNotFoundError\u001b[0m                         Traceback (most recent call last)",
            "\u001b[0;32m<ipython-input-4-7ec7509b10d1>\u001b[0m in \u001b[0;36m<module>\u001b[0;34m()\u001b[0m\n\u001b[1;32m      1\u001b[0m \u001b[0murl\u001b[0m \u001b[0;34m=\u001b[0m \u001b[0;34m\"https://raw.githubusercontent.com/VarunGor/Dataset/master/Phishing_Data.arff\"\u001b[0m\u001b[0;34m\u001b[0m\u001b[0;34m\u001b[0m\u001b[0m\n\u001b[1;32m      2\u001b[0m \u001b[0;34m\u001b[0m\u001b[0m\n\u001b[0;32m----> 3\u001b[0;31m \u001b[0mphishing_data_raw\u001b[0m \u001b[0;34m=\u001b[0m \u001b[0mloadarff\u001b[0m\u001b[0;34m(\u001b[0m\u001b[0murl\u001b[0m\u001b[0;34m)\u001b[0m\u001b[0;34m\u001b[0m\u001b[0;34m\u001b[0m\u001b[0m\n\u001b[0m",
            "\u001b[0;32m/usr/local/lib/python3.6/dist-packages/scipy/io/arff/arffread.py\u001b[0m in \u001b[0;36mloadarff\u001b[0;34m(f)\u001b[0m\n\u001b[1;32m    801\u001b[0m         \u001b[0mofile\u001b[0m \u001b[0;34m=\u001b[0m \u001b[0mf\u001b[0m\u001b[0;34m\u001b[0m\u001b[0;34m\u001b[0m\u001b[0m\n\u001b[1;32m    802\u001b[0m     \u001b[0;32melse\u001b[0m\u001b[0;34m:\u001b[0m\u001b[0;34m\u001b[0m\u001b[0;34m\u001b[0m\u001b[0m\n\u001b[0;32m--> 803\u001b[0;31m         \u001b[0mofile\u001b[0m \u001b[0;34m=\u001b[0m \u001b[0mopen\u001b[0m\u001b[0;34m(\u001b[0m\u001b[0mf\u001b[0m\u001b[0;34m,\u001b[0m \u001b[0;34m'rt'\u001b[0m\u001b[0;34m)\u001b[0m\u001b[0;34m\u001b[0m\u001b[0;34m\u001b[0m\u001b[0m\n\u001b[0m\u001b[1;32m    804\u001b[0m     \u001b[0;32mtry\u001b[0m\u001b[0;34m:\u001b[0m\u001b[0;34m\u001b[0m\u001b[0;34m\u001b[0m\u001b[0m\n\u001b[1;32m    805\u001b[0m         \u001b[0;32mreturn\u001b[0m \u001b[0m_loadarff\u001b[0m\u001b[0;34m(\u001b[0m\u001b[0mofile\u001b[0m\u001b[0;34m)\u001b[0m\u001b[0;34m\u001b[0m\u001b[0;34m\u001b[0m\u001b[0m\n",
            "\u001b[0;31mFileNotFoundError\u001b[0m: [Errno 2] No such file or directory: 'https://raw.githubusercontent.com/VarunGor/Dataset/master/Phishing_Data.arff'"
          ]
        }
      ]
    },
    {
      "cell_type": "code",
      "metadata": {
        "id": "n6IZi95vQ2rk",
        "colab_type": "code",
        "colab": {}
      },
      "source": [
        "print('Data Rows : ', len(phishing_data_raw))\n",
        "phishing_data_raw.head(5)"
      ],
      "execution_count": 0,
      "outputs": []
    }
  ]
}